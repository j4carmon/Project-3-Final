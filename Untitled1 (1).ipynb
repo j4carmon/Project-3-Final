{
 "cells": [
  {
   "cell_type": "markdown",
   "metadata": {},
   "source": [
    "# Project 3\n",
    "Scientific Question: Will sequence variants between Dymeclin(DYM)and neural cell adhesion molecule 1 (NCAM1) of a glioblastoma(GBM) and healthy sample correlate with scientific literature denouncing mutations in these genes to be deleterrious and lead to  differently expressed genes which promote cancer development?\n",
    "\n",
    "\n",
    "Discovering robust gene signatures toward better understanding of the complex molecular mechanisms leading to GBM is an important prerequisite to the identification of novel and more effective therapeutic strategies (Jing et al, 2018).\n",
    "The neurodevelopmental of neural cell adhesion molecule (NCAM) protein is overexpressed in various cancers and is a homophilic binding glycoprotein expressed on the surface of nerual cells commonly involved with Natural killer cells.(Amoureux et al, 2010).  Whileh DYM is a gene that encodes for dymeclin, a protein necessary for normal brain function. \n",
    "\n",
    "Glioblastomas (GBMs) are the most common intrinsic brain tumors and have a rate of fatality. Despite advances in surgery, chemotherapy, and radiation over in recent times, the prognosis for GBM patients has remained very poor, and the average survival time for GBM patients has yet to surpass 5 years. Discovering robust gene signatures is a necessary step toward a better understanding of the complex molecular mechanisms that lead to GBM and the development of new and more efficient therapeutic strategies. Therefore, experiments that seek to determine and analyze the sequence variants between GBM and healthy tissue proposes to uncover vital information taht can provide for further insight on these complex molecular mechanisms.\n",
    "\n",
    "##If there is significant evidence to suggest genetic variance present between tumor and healthy tissue in DYM and NCAM1, then this indicates that there are molecualr mechanisms affected by these novel mutations in these genes and that they should be taken into consideration when developing therapeutics for GBM.\n",
    "\n",
    "I answered this scientific question by National Cancer Institute GDC Data Portal and filtered for deleterrious, high novel mutation, and GBM related genes. I uncovered approx 60~ genes and chose NCAM1 and DYM for this project. Afterwards, I downloaded fasta from NCBI of healthy reference NCAM1 and DYM sequences. After parsing the fasta reads, I pairwise aligned the GBM and healthy tissue and aimed to illustrate a heatmap that would indicate the inherent and significant variance that I expect. If my hypothesis is correct, there will be significant difference between GBM and healthy tissue. Also, a correct hypothesis will indidcate a direction for where to emphasis further research on therapeutics against certaion variant regions that have underlying molecular mechanisms that lead to tumor development, specifically for GBM."
   ]
  },
  {
   "cell_type": "markdown",
   "metadata": {},
   "source": [
    "# Loading in Packages\n",
    "Numpy:I used numpy for proper alignment of the all the sequences when creating my heatmap as a whole and to normalize the scores so their scale would be the same and the finding would be significant.\n",
    "Bio:I loaded in biopython to use SeqIo to parse my fasta files and pairwise to align the gene 4 gene sequences together\n",
    "matplotlib: I loaded in matplotlib to make a heatmap that described a normalised pairwise alignment score to indicate if there is significant difference between a NCAM1 and DYM mutated in GBM and healthy NCAM1 and DYM."
   ]
  },
  {
   "cell_type": "code",
   "execution_count": 1,
   "metadata": {},
   "outputs": [],
   "source": [
    "import numpy as np\n",
    "import matplotlib.pyplot as plt\n",
    "from Bio import SeqIO\n",
    "from Bio import pairwise2\n",
    "from Bio.pairwise2 import format_alignment"
   ]
  },
  {
   "cell_type": "markdown",
   "metadata": {},
   "source": [
    "# Retrieve data from NIH,NCBI, and Archive.ensembl\n",
    "I went onto NIH to do preliminary research on my genes of interest. I found NCAM1 and DYM which inspired this project due to their high Sift Impact, connection to GBM development and other significant markers offerd on NIH. I then found reference genomes of these genes on NCBI and Archive.ensembl to download. After I made sure all the files were in the same direvory as the project. Lastly, I used SeqIO to read all of the genes of interst as fasta files and displayed sequence reads below."
   ]
  },
  {
   "cell_type": "code",
   "execution_count": 2,
   "metadata": {},
   "outputs": [
    {
     "name": "stdout",
     "output_type": "stream",
     "text": [
      "ID: NC_000011.10:112961420-113278436\n",
      "Name: NC_000011.10:112961420-113278436\n",
      "Description: NC_000011.10:112961420-113278436 NCAM1 [organism=Homo sapiens] [GeneID=4684] [chromosome=11]\n",
      "Number of features: 0\n",
      "Seq('ACTCATTCTCCGATCAGCGCGTGAACGCAGCTCGGCTGCCGCTGGCAGGAAACA...CTA')\n",
      "ID: NC_000018.10:c49460709-49036387\n",
      "Name: NC_000018.10:c49460709-49036387\n",
      "Description: NC_000018.10:c49460709-49036387 DYM [organism=Homo sapiens] [GeneID=54808] [chromosome=18]\n",
      "Number of features: 0\n",
      "Seq('ACGTGACCACCTGGCTGGCGCGCGCGCCTGGGGGTCTGGTCCCTAGCCGCGTTC...GCA')\n",
      "ID: ENSG00000149294:ENST00000619839\n",
      "Name: ENSG00000149294:ENST00000619839\n",
      "Description: ENSG00000149294:ENST00000619839 cdna:NOVEL_protein_coding\n",
      "Number of features: 0\n",
      "Seq('ACTATTTGTGGCCGGCGTGGTGGAAGGACACAGTGAGGTTCTCACCCCCGCCCC...TGA')\n",
      "ID: ENSG00000149294:ENST00000619839\n",
      "Name: ENSG00000149294:ENST00000619839\n",
      "Description: ENSG00000149294:ENST00000619839 cdna:NOVEL_protein_coding\n",
      "Number of features: 0\n",
      "Seq('ACTATTTGTGGCCGGCGTGGTGGAAGGACACAGTGAGGTTCTCACCCCCGCCCC...TGA')\n"
     ]
    }
   ],
   "source": [
    "#\n",
    "seq1 = SeqIO.read(\"gene.NCAM1.fna\", \"fasta\")\n",
    "print(seq1)\n",
    "\n",
    "seq2 = SeqIO.read(\"gene.DYM.fna\", \"fasta\")\n",
    "print(seq2)\n",
    "\n",
    "seq3 = SeqIO.read(\"NCAM1_GBM.txt\", \"fasta\")\n",
    "print(seq3)\n",
    "\n",
    "seq4 = SeqIO.read(\"NCAM1_GBM.txt\", \"fasta\")\n",
    "print(seq4)"
   ]
  },
  {
   "cell_type": "markdown",
   "metadata": {},
   "source": [
    "# Perform Pairwise Alignment and Use Numpy to Normalize and Shape data\n",
    "I began making seqs variable to include all of the data I had retrieved prior. I used numpy to align the alignment of the pairwise as 4 by 4 to include all of my sequeneces. Then I made a for loop based on the differnt lengths of both the x value (GBM) and y value (healthy) because differnces in shape will indicate mutations (point,deletions, etc.) I normalized the alignment by multiplying by 1000 and divided by each sequence to scale everything together, kept the alignment at global because I wanted to be safe and make sure the alignment could be used later in the code, and rounded the alignment together to make sure the heatmap would have solid numbers that would be easier to interpret in the heatmap analysis."
   ]
  },
  {
   "cell_type": "code",
   "execution_count": null,
   "metadata": {},
   "outputs": [],
   "source": [
    "# Sequence alignment of glioblastoma sequences with a human sequence\n",
    "seqs=[seq1, seq2, seq3, seq4]\n",
    "alignment = np.empty(shape=(4,4))\n",
    "for x in range(len(seqs)):\n",
    "    for y in range(len(seqs)):\n",
    "        if len(seqs[x].seq) >= len(seqs[y].seq):\n",
    "            print(len(seqs[x].seq))\n",
    "            alignment[x,y]=(pairwise2.align.globalxx(seqs[x].seq, seqs[y].seq, score_only=True)*1000)/len(seqs[x].seq)\n",
    "        elif len(seqs[y].seq) >= len(seqs[x].seq):\n",
    "            print(len(seqs[y].seq))\n",
    "            alignment[x,y]=(pairwise2.align.globalxx(seqs[x].seq, seqs[y].seq, score_only=True)*1000)/len(seqs[y].seq)\n",
    "around_alignment=np.around(alignment, 1)\n",
    "print(around_alignment)"
   ]
  },
  {
   "cell_type": "markdown",
   "metadata": {},
   "source": [
    "# Plot a heatmap with the normalized alignment from the code prior\n",
    "I made the x(GBM) and y(Healthy) variables and included the names of all the genes. I made the score equal to the around_alignment that would have been the normalized pairwise alignment of all of the data. I then used matplotlib to add ticks, labels and parameters for the heatmap. I added the range for GBM as I and J for Healthy and set the text of the function to represent the diffreneces in length of the two variables, this would indicate if there is significant differnce numerically, while the colors in the plot itself would indicate through the \"heat\" spread if there was any difference visually as well. Lastly, I added a title of my data and showed the data."
   ]
  },
  {
   "cell_type": "code",
   "execution_count": null,
   "metadata": {},
   "outputs": [],
   "source": [
    "GBM = [\"NCAM1\", \"DYM\", \"NCAM1_GBM\", \"DYM_GBM\"]\n",
    "Healthy = [\"NCAM1\", \"DYM\", \"NCAM1_GBM\", \"DYM_GBM\"]\n",
    "\n",
    "scores = around_alignment\n",
    "\n",
    "fig, ax = plt.subplots(figsize=(20,10))\n",
    "im = ax.imshow(scores)\n",
    "\n",
    "ax.set_xticks(np.arrange(len(GBM)))\n",
    "ax.set_ysticks(np.arrange(len(Healthy)))\n",
    "\n",
    "ax.set_xticklabels(GBM)\n",
    "ax.set_yticklabels(Healthy)\n",
    "\n",
    "pl.setp(ax.get_xticklabels(),rotation=45, ha='right', rotation_mode=\"anchor\")\n",
    "\n",
    "for i in range(len(GBM)):\n",
    "    for j in range (len(Healthy)):\n",
    "        text = ax.text(j, i, scores[i, j], ha =\"center\", va=\"center\", color=\"black\")\n",
    "    \n",
    "ax.set_title(\"Normalized Pairwise Alignment Scores between GBM and Healthy genes\")\n",
    "fig.tight_layout()\n",
    "plt.show()"
   ]
  },
  {
   "cell_type": "markdown",
   "metadata": {},
   "source": [
    "# The Results\n",
    "he plot above should the differnces between all 4 genes in the set. Compounds that are similar to one another have a higher sequence similarity after alignments; score closer to 1.0 & bright/yellow and those that are less similar to one another have a lower similarity after alignment; scores significant to indicate difference (closer to 0.4 & dark/purple). Each cell in the matrix represents a similarity score after alignments. As seen majority of the data is not similar at all indicated the intense variation between a healthy tissue and a GBM tissue. Thus, my hypothesis was correct and is clearly differences in sequences, which further indicates the significance of DYM and NCAM1 in GBM cancer development and their molecular mechanisms must be looked into further to distnuigh their role in oncogenesis."
   ]
  },
  {
   "cell_type": "markdown",
   "metadata": {},
   "source": []
  }
 ],
 "metadata": {
  "kernelspec": {
   "display_name": "Python 3",
   "language": "python",
   "name": "python3"
  },
  "language_info": {
   "codemirror_mode": {
    "name": "ipython",
    "version": 3
   },
   "file_extension": ".py",
   "mimetype": "text/x-python",
   "name": "python",
   "nbconvert_exporter": "python",
   "pygments_lexer": "ipython3",
   "version": "3.8.5"
  }
 },
 "nbformat": 4,
 "nbformat_minor": 4
}
